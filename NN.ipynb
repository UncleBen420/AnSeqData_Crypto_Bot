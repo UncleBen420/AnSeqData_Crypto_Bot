{
 "cells": [
  {
   "cell_type": "code",
   "execution_count": 1,
   "id": "f71b2de4",
   "metadata": {},
   "outputs": [],
   "source": [
    "#inspired by https://github.com/subramanya1997/cryptocurrency-price-prediction\n",
    "from keras.models import Sequential\n",
    "from keras.layers import Activation, Dense, Dropout, LSTM, SimpleRNN\n",
    "import matplotlib.pyplot as plt\n",
    "import numpy as np\n",
    "import pandas as pd\n",
    "import seaborn as sns\n",
    "from sklearn.metrics import mean_absolute_error\n",
    "\n",
    "import glob\n",
    "import os\n",
    "\n",
    "from sklearn.preprocessing import MinMaxScaler\n",
    "from sklearn.decomposition import PCA\n",
    "\n",
    "from tensorflow.keras.callbacks import EarlyStopping\n",
    "\n",
    "%matplotlib inline"
   ]
  },
  {
   "cell_type": "code",
   "execution_count": 2,
   "id": "e2d3a87a",
   "metadata": {},
   "outputs": [],
   "source": [
    "path = r'data/'                     # use your path\n",
    "all_files = glob.glob(os.path.join(path, \"DOT.csv\"))\n",
    "data = pd.read_csv(all_files[0])\n",
    "data = data.set_index('datetime')"
   ]
  },
  {
   "cell_type": "code",
   "execution_count": 3,
   "id": "80349400",
   "metadata": {},
   "outputs": [
    {
     "data": {
      "text/html": [
       "<div>\n",
       "<style scoped>\n",
       "    .dataframe tbody tr th:only-of-type {\n",
       "        vertical-align: middle;\n",
       "    }\n",
       "\n",
       "    .dataframe tbody tr th {\n",
       "        vertical-align: top;\n",
       "    }\n",
       "\n",
       "    .dataframe thead th {\n",
       "        text-align: right;\n",
       "    }\n",
       "</style>\n",
       "<table border=\"1\" class=\"dataframe\">\n",
       "  <thead>\n",
       "    <tr style=\"text-align: right;\">\n",
       "      <th></th>\n",
       "      <th>o</th>\n",
       "      <th>h</th>\n",
       "      <th>l</th>\n",
       "      <th>c</th>\n",
       "      <th>v</th>\n",
       "    </tr>\n",
       "    <tr>\n",
       "      <th>datetime</th>\n",
       "      <th></th>\n",
       "      <th></th>\n",
       "      <th></th>\n",
       "      <th></th>\n",
       "      <th></th>\n",
       "    </tr>\n",
       "  </thead>\n",
       "  <tbody>\n",
       "    <tr>\n",
       "      <th>2020-08-18 02:00:00</th>\n",
       "      <td>2.0900</td>\n",
       "      <td>4.4400</td>\n",
       "      <td>2.0000</td>\n",
       "      <td>3.1000</td>\n",
       "      <td>6039881.97</td>\n",
       "    </tr>\n",
       "    <tr>\n",
       "      <th>2020-08-19 02:00:00</th>\n",
       "      <td>3.1000</td>\n",
       "      <td>3.1999</td>\n",
       "      <td>2.6400</td>\n",
       "      <td>2.9500</td>\n",
       "      <td>15895774.92</td>\n",
       "    </tr>\n",
       "    <tr>\n",
       "      <th>2020-08-20 02:00:00</th>\n",
       "      <td>2.9449</td>\n",
       "      <td>3.1111</td>\n",
       "      <td>2.6000</td>\n",
       "      <td>2.9000</td>\n",
       "      <td>11040863.60</td>\n",
       "    </tr>\n",
       "    <tr>\n",
       "      <th>2020-08-21 02:00:00</th>\n",
       "      <td>2.8978</td>\n",
       "      <td>3.0900</td>\n",
       "      <td>2.6826</td>\n",
       "      <td>2.8330</td>\n",
       "      <td>9765153.74</td>\n",
       "    </tr>\n",
       "    <tr>\n",
       "      <th>2020-08-22 02:00:00</th>\n",
       "      <td>2.8387</td>\n",
       "      <td>4.5500</td>\n",
       "      <td>2.7820</td>\n",
       "      <td>4.4546</td>\n",
       "      <td>41611476.51</td>\n",
       "    </tr>\n",
       "    <tr>\n",
       "      <th>...</th>\n",
       "      <td>...</td>\n",
       "      <td>...</td>\n",
       "      <td>...</td>\n",
       "      <td>...</td>\n",
       "      <td>...</td>\n",
       "    </tr>\n",
       "    <tr>\n",
       "      <th>2021-11-26 01:00:00</th>\n",
       "      <td>39.4800</td>\n",
       "      <td>39.6200</td>\n",
       "      <td>33.6700</td>\n",
       "      <td>34.5600</td>\n",
       "      <td>16596267.73</td>\n",
       "    </tr>\n",
       "    <tr>\n",
       "      <th>2021-11-27 01:00:00</th>\n",
       "      <td>34.5500</td>\n",
       "      <td>36.1200</td>\n",
       "      <td>34.4300</td>\n",
       "      <td>35.1600</td>\n",
       "      <td>6817533.23</td>\n",
       "    </tr>\n",
       "    <tr>\n",
       "      <th>2021-11-28 01:00:00</th>\n",
       "      <td>35.1600</td>\n",
       "      <td>35.8500</td>\n",
       "      <td>32.2100</td>\n",
       "      <td>35.7600</td>\n",
       "      <td>10439305.23</td>\n",
       "    </tr>\n",
       "    <tr>\n",
       "      <th>2021-11-29 01:00:00</th>\n",
       "      <td>35.7500</td>\n",
       "      <td>37.5300</td>\n",
       "      <td>35.4000</td>\n",
       "      <td>37.1000</td>\n",
       "      <td>7442054.72</td>\n",
       "    </tr>\n",
       "    <tr>\n",
       "      <th>2021-11-30 01:00:00</th>\n",
       "      <td>37.1000</td>\n",
       "      <td>39.3500</td>\n",
       "      <td>35.2800</td>\n",
       "      <td>38.4200</td>\n",
       "      <td>9174065.42</td>\n",
       "    </tr>\n",
       "  </tbody>\n",
       "</table>\n",
       "<p>470 rows × 5 columns</p>\n",
       "</div>"
      ],
      "text/plain": [
       "                           o        h        l        c            v\n",
       "datetime                                                            \n",
       "2020-08-18 02:00:00   2.0900   4.4400   2.0000   3.1000   6039881.97\n",
       "2020-08-19 02:00:00   3.1000   3.1999   2.6400   2.9500  15895774.92\n",
       "2020-08-20 02:00:00   2.9449   3.1111   2.6000   2.9000  11040863.60\n",
       "2020-08-21 02:00:00   2.8978   3.0900   2.6826   2.8330   9765153.74\n",
       "2020-08-22 02:00:00   2.8387   4.5500   2.7820   4.4546  41611476.51\n",
       "...                      ...      ...      ...      ...          ...\n",
       "2021-11-26 01:00:00  39.4800  39.6200  33.6700  34.5600  16596267.73\n",
       "2021-11-27 01:00:00  34.5500  36.1200  34.4300  35.1600   6817533.23\n",
       "2021-11-28 01:00:00  35.1600  35.8500  32.2100  35.7600  10439305.23\n",
       "2021-11-29 01:00:00  35.7500  37.5300  35.4000  37.1000   7442054.72\n",
       "2021-11-30 01:00:00  37.1000  39.3500  35.2800  38.4200   9174065.42\n",
       "\n",
       "[470 rows x 5 columns]"
      ]
     },
     "execution_count": 3,
     "metadata": {},
     "output_type": "execute_result"
    }
   ],
   "source": [
    "data"
   ]
  },
  {
   "cell_type": "code",
   "execution_count": 4,
   "id": "e004e6de",
   "metadata": {},
   "outputs": [],
   "source": [
    "def train_test_split(df, test_size=0.2):\n",
    "    split_row = len(df) - int(test_size * len(df))\n",
    "    train_data = df.iloc[:split_row]\n",
    "    test_data = df.iloc[split_row:]\n",
    "    return train_data, test_data\n",
    "\n",
    "def unscale(arr,scaler):\n",
    "    arr = arr.reshape(-1, 1)\n",
    "    arr = np.concatenate((arr,arr,arr,arr,arr),axis=1)\n",
    "    arr = scaler.inverse_transform(arr)\n",
    "    arr = arr[:][:,0] \n",
    "    return arr\n",
    "\n",
    "def plot_cov_matrix(dataset):\n",
    "    covMatrix = np.cov(np.rot90(dataset),bias=True)\n",
    "    print(covMatrix.shape)\n",
    "    plt.rcParams[\"figure.figsize\"] = [7.00, 3.50]\n",
    "    plt.rcParams[\"figure.autolayout\"] = True\n",
    "    im = plt.imshow(covMatrix, cmap=\"gray\")\n",
    "    plt.colorbar(im)\n",
    "    plt.show()"
   ]
  },
  {
   "cell_type": "code",
   "execution_count": 5,
   "id": "def206df",
   "metadata": {},
   "outputs": [
    {
     "name": "stdout",
     "output_type": "stream",
     "text": [
      "(5, 5)\n"
     ]
    },
    {
     "data": {
      "image/png": "[encoded data removed]",
      "text/plain": [
       "<Figure size 504x252 with 2 Axes>"
      ]
     },
     "metadata": {
      "needs_background": "light"
     },
     "output_type": "display_data"
    }
   ],
   "source": [
    "scaler = MinMaxScaler()\n",
    "data[['l', 'o', 'h', 'c', 'v']]= scaler.fit_transform(data[['l', 'o', 'h', 'c', 'v']])\n",
    "plot_cov_matrix(data)"
   ]
  },
  {
   "cell_type": "code",
   "execution_count": 6,
   "id": "0f6ad89f",
   "metadata": {},
   "outputs": [],
   "source": [
    "pca = PCA(n_components=3)\n",
    "data_pca = data\n",
    "data_pca = pca.fit_transform(data_pca)\n",
    "data_pca = pd.DataFrame(data_pca, columns=['pc1', 'pc2', 'pc3'])"
   ]
  },
  {
   "cell_type": "code",
   "execution_count": 7,
   "id": "1449f507",
   "metadata": {},
   "outputs": [],
   "source": [
    "train, test = train_test_split(data, test_size=0.2)"
   ]
  },
  {
   "cell_type": "code",
   "execution_count": 8,
   "id": "de997cf6",
   "metadata": {},
   "outputs": [
    {
     "data": {
      "text/html": [
       "<div>\n",
       "<style scoped>\n",
       "    .dataframe tbody tr th:only-of-type {\n",
       "        vertical-align: middle;\n",
       "    }\n",
       "\n",
       "    .dataframe tbody tr th {\n",
       "        vertical-align: top;\n",
       "    }\n",
       "\n",
       "    .dataframe thead th {\n",
       "        text-align: right;\n",
       "    }\n",
       "</style>\n",
       "<table border=\"1\" class=\"dataframe\">\n",
       "  <thead>\n",
       "    <tr style=\"text-align: right;\">\n",
       "      <th></th>\n",
       "      <th>o</th>\n",
       "      <th>h</th>\n",
       "      <th>l</th>\n",
       "      <th>c</th>\n",
       "      <th>v</th>\n",
       "    </tr>\n",
       "    <tr>\n",
       "      <th>datetime</th>\n",
       "      <th></th>\n",
       "      <th></th>\n",
       "      <th></th>\n",
       "      <th></th>\n",
       "      <th></th>\n",
       "    </tr>\n",
       "  </thead>\n",
       "  <tbody>\n",
       "    <tr>\n",
       "      <th>2021-08-29 02:00:00</th>\n",
       "      <td>0.461345</td>\n",
       "      <td>0.449423</td>\n",
       "      <td>0.463317</td>\n",
       "      <td>0.448487</td>\n",
       "      <td>0.053741</td>\n",
       "    </tr>\n",
       "    <tr>\n",
       "      <th>2021-08-30 02:00:00</th>\n",
       "      <td>0.456513</td>\n",
       "      <td>0.470962</td>\n",
       "      <td>0.444976</td>\n",
       "      <td>0.454959</td>\n",
       "      <td>0.166749</td>\n",
       "    </tr>\n",
       "    <tr>\n",
       "      <th>2021-08-31 02:00:00</th>\n",
       "      <td>0.463085</td>\n",
       "      <td>0.555000</td>\n",
       "      <td>0.470694</td>\n",
       "      <td>0.559299</td>\n",
       "      <td>0.493679</td>\n",
       "    </tr>\n",
       "    <tr>\n",
       "      <th>2021-09-01 02:00:00</th>\n",
       "      <td>0.565327</td>\n",
       "      <td>0.591308</td>\n",
       "      <td>0.550239</td>\n",
       "      <td>0.595191</td>\n",
       "      <td>0.308417</td>\n",
       "    </tr>\n",
       "    <tr>\n",
       "      <th>2021-09-02 02:00:00</th>\n",
       "      <td>0.600696</td>\n",
       "      <td>0.579038</td>\n",
       "      <td>0.582935</td>\n",
       "      <td>0.567929</td>\n",
       "      <td>0.149248</td>\n",
       "    </tr>\n",
       "    <tr>\n",
       "      <th>...</th>\n",
       "      <td>...</td>\n",
       "      <td>...</td>\n",
       "      <td>...</td>\n",
       "      <td>...</td>\n",
       "      <td>...</td>\n",
       "    </tr>\n",
       "    <tr>\n",
       "      <th>2021-11-26 01:00:00</th>\n",
       "      <td>0.722652</td>\n",
       "      <td>0.702500</td>\n",
       "      <td>0.631380</td>\n",
       "      <td>0.622257</td>\n",
       "      <td>0.188737</td>\n",
       "    </tr>\n",
       "    <tr>\n",
       "      <th>2021-11-27 01:00:00</th>\n",
       "      <td>0.627368</td>\n",
       "      <td>0.635192</td>\n",
       "      <td>0.646531</td>\n",
       "      <td>0.634024</td>\n",
       "      <td>0.064518</td>\n",
       "    </tr>\n",
       "    <tr>\n",
       "      <th>2021-11-28 01:00:00</th>\n",
       "      <td>0.639157</td>\n",
       "      <td>0.630000</td>\n",
       "      <td>0.602273</td>\n",
       "      <td>0.645792</td>\n",
       "      <td>0.110525</td>\n",
       "    </tr>\n",
       "    <tr>\n",
       "      <th>2021-11-29 01:00:00</th>\n",
       "      <td>0.650560</td>\n",
       "      <td>0.662308</td>\n",
       "      <td>0.665869</td>\n",
       "      <td>0.672073</td>\n",
       "      <td>0.072451</td>\n",
       "    </tr>\n",
       "    <tr>\n",
       "      <th>2021-11-30 01:00:00</th>\n",
       "      <td>0.676652</td>\n",
       "      <td>0.697308</td>\n",
       "      <td>0.663477</td>\n",
       "      <td>0.697962</td>\n",
       "      <td>0.094453</td>\n",
       "    </tr>\n",
       "  </tbody>\n",
       "</table>\n",
       "<p>94 rows × 5 columns</p>\n",
       "</div>"
      ],
      "text/plain": [
       "                            o         h         l         c         v\n",
       "datetime                                                             \n",
       "2021-08-29 02:00:00  0.461345  0.449423  0.463317  0.448487  0.053741\n",
       "2021-08-30 02:00:00  0.456513  0.470962  0.444976  0.454959  0.166749\n",
       "2021-08-31 02:00:00  0.463085  0.555000  0.470694  0.559299  0.493679\n",
       "2021-09-01 02:00:00  0.565327  0.591308  0.550239  0.595191  0.308417\n",
       "2021-09-02 02:00:00  0.600696  0.579038  0.582935  0.567929  0.149248\n",
       "...                       ...       ...       ...       ...       ...\n",
       "2021-11-26 01:00:00  0.722652  0.702500  0.631380  0.622257  0.188737\n",
       "2021-11-27 01:00:00  0.627368  0.635192  0.646531  0.634024  0.064518\n",
       "2021-11-28 01:00:00  0.639157  0.630000  0.602273  0.645792  0.110525\n",
       "2021-11-29 01:00:00  0.650560  0.662308  0.665869  0.672073  0.072451\n",
       "2021-11-30 01:00:00  0.676652  0.697308  0.663477  0.697962  0.094453\n",
       "\n",
       "[94 rows x 5 columns]"
      ]
     },
     "execution_count": 8,
     "metadata": {},
     "output_type": "execute_result"
    }
   ],
   "source": [
    "test"
   ]
  },
  {
   "cell_type": "code",
   "execution_count": 9,
   "id": "9c3ce48f",
   "metadata": {},
   "outputs": [],
   "source": [
    "def line_plot(line1, line2, label1=None, label2=None, title='', lw=2):\n",
    "    fig, ax = plt.subplots(1, figsize=(13, 7))\n",
    "    ax.plot(line1, label=label1, linewidth=lw)\n",
    "    ax.plot(line2, label=label2, linewidth=lw)\n",
    "    ax.set_ylabel('price', fontsize=14)\n",
    "    ax.set_title(title, fontsize=16)\n",
    "    ax.legend(loc='best', fontsize=16);"
   ]
  },
  {
   "cell_type": "code",
   "execution_count": 114,
   "id": "f2de173c",
   "metadata": {},
   "outputs": [
    {
     "data": {
      "image/png": "[encoded data removed]",
      "text/plain": [
       "<Figure size 936x504 with 1 Axes>"
      ]
     },
     "metadata": {
      "needs_background": "light"
     },
     "output_type": "display_data"
    }
   ],
   "source": [
    "line_plot(train['c'], test['c'], 'Training', 'Test', title='BTC')"
   ]
  },
  {
   "cell_type": "code",
   "execution_count": 10,
   "id": "c83bb8eb",
   "metadata": {},
   "outputs": [],
   "source": [
    "def extract_window_data(df, window_len=5):\n",
    "    window_data = []\n",
    "    for idx in range(len(df) - window_len):\n",
    "        tmp = df[idx: (idx + window_len)].copy()\n",
    "\n",
    "        window_data.append(tmp.values)\n",
    "    return np.array(window_data)"
   ]
  },
  {
   "cell_type": "code",
   "execution_count": 11,
   "id": "7d550349",
   "metadata": {},
   "outputs": [],
   "source": [
    "def prepare_data(df_X, df_y, target_col, window_len=10, test_size=0.2):\n",
    "    train_data, test_data = train_test_split(df_X, test_size=test_size)\n",
    "    train_data_y, test_data_y = train_test_split(df_y, test_size=test_size)\n",
    "    \n",
    "    X_train = extract_window_data(train_data, window_len)\n",
    "    X_test = extract_window_data(test_data, window_len)\n",
    "    y_train = train_data_y[target_col][window_len:].values\n",
    "    y_test = test_data_y[target_col][window_len:].values\n",
    "\n",
    "    return train_data, test_data, X_train, X_test, y_train, y_test"
   ]
  },
  {
   "cell_type": "code",
   "execution_count": 12,
   "id": "eeea68af",
   "metadata": {},
   "outputs": [],
   "source": [
    "def build_lstm_model(input_data, output_size, neurons=100, activ_func='linear',\n",
    "                     dropout=0.2, loss='mse', optimizer='adam'):\n",
    "    model = Sequential()\n",
    "    model.add(LSTM(neurons, input_shape=(input_data.shape[1], input_data.shape[2])))\n",
    "    model.add(Dropout(dropout))\n",
    "    model.add(Dense(units=output_size))\n",
    "    model.add(Activation(activ_func))\n",
    "\n",
    "    model.compile(loss=loss, optimizer=optimizer)\n",
    "    return model"
   ]
  },
  {
   "cell_type": "code",
   "execution_count": 13,
   "id": "94ca24ab",
   "metadata": {},
   "outputs": [],
   "source": [
    "def build_rnn_hidden_model(input_data, output_size, neurons=100, activ_func='linear',\n",
    "                     dropout=0.2, loss='mse', optimizer='adam'): \n",
    "    model = Sequential()\n",
    "    model.add(SimpleRNN(neurons, input_shape=(input_data.shape[1],input_data.shape[2])))\n",
    "\n",
    "    # add an output layer to make final predictions \n",
    "    model.add(Dense(150, activation='relu'))\n",
    "    model.add(Dense(units=output_size))\n",
    "    model.add(Activation(activ_func))\n",
    "    model.compile(loss=loss, optimizer=optimizer)\n",
    "    return model"
   ]
  },
  {
   "cell_type": "code",
   "execution_count": 14,
   "id": "10b7d8b2",
   "metadata": {},
   "outputs": [],
   "source": [
    "np.random.seed(42)\n",
    "window_len = 7\n",
    "test_size = 0.2\n",
    "lstm_neurons = 100\n",
    "epochs = 50\n",
    "batch_size = 32\n",
    "loss = 'mse'\n",
    "dropout = 0.2\n",
    "optimizer = 'adam'"
   ]
  },
  {
   "cell_type": "code",
   "execution_count": 15,
   "id": "6cda1001",
   "metadata": {},
   "outputs": [],
   "source": [
    "a, b, X_train, X_test, y_train, y_test = prepare_data(data_pca, data, 'c', window_len=window_len, test_size=test_size)"
   ]
  },
  {
   "cell_type": "code",
   "execution_count": 16,
   "id": "a66d7fba",
   "metadata": {},
   "outputs": [
    {
     "name": "stdout",
     "output_type": "stream",
     "text": [
      "(369, 7, 3)\n",
      "(87, 7, 3)\n",
      "(369,)\n",
      "(87,)\n"
     ]
    }
   ],
   "source": [
    "print(X_train.shape)\n",
    "print(X_test.shape)\n",
    "print(y_train.shape)\n",
    "print(y_test.shape)"
   ]
  },
  {
   "cell_type": "code",
   "execution_count": 17,
   "id": "0d67bf42",
   "metadata": {},
   "outputs": [
    {
     "name": "stdout",
     "output_type": "stream",
     "text": [
      "Epoch 1/50\n",
      "10/10 [==============================] - 3s 67ms/step - loss: 0.1084 - val_loss: 0.0544\n",
      "Epoch 2/50\n",
      "10/10 [==============================] - 0s 13ms/step - loss: 0.0259 - val_loss: 0.0020\n",
      "Epoch 3/50\n",
      "10/10 [==============================] - 0s 12ms/step - loss: 0.0113 - val_loss: 0.0023\n",
      "Epoch 4/50\n",
      "10/10 [==============================] - 0s 12ms/step - loss: 0.0074 - val_loss: 0.0058\n",
      "Epoch 5/50\n",
      "10/10 [==============================] - 0s 13ms/step - loss: 0.0055 - val_loss: 0.0027\n",
      "Epoch 6/50\n",
      "10/10 [==============================] - 0s 13ms/step - loss: 0.0051 - val_loss: 0.0019\n",
      "Epoch 7/50\n",
      "10/10 [==============================] - 0s 13ms/step - loss: 0.0048 - val_loss: 0.0020\n",
      "Epoch 8/50\n",
      "10/10 [==============================] - 0s 12ms/step - loss: 0.0043 - val_loss: 0.0018\n",
      "Epoch 9/50\n",
      "10/10 [==============================] - 0s 13ms/step - loss: 0.0048 - val_loss: 0.0017\n",
      "Epoch 10/50\n",
      "10/10 [==============================] - 0s 14ms/step - loss: 0.0039 - val_loss: 0.0015\n",
      "Epoch 11/50\n",
      "10/10 [==============================] - 0s 22ms/step - loss: 0.0031 - val_loss: 0.0014\n",
      "Epoch 12/50\n",
      "10/10 [==============================] - 0s 19ms/step - loss: 0.0038 - val_loss: 0.0014\n",
      "Epoch 13/50\n",
      "10/10 [==============================] - 0s 15ms/step - loss: 0.0037 - val_loss: 0.0012\n",
      "Epoch 14/50\n",
      "10/10 [==============================] - 0s 12ms/step - loss: 0.0038 - val_loss: 0.0012\n",
      "Epoch 15/50\n",
      "10/10 [==============================] - 0s 12ms/step - loss: 0.0032 - val_loss: 0.0012\n",
      "Epoch 16/50\n",
      "10/10 [==============================] - 0s 13ms/step - loss: 0.0033 - val_loss: 0.0011\n",
      "Epoch 17/50\n",
      "10/10 [==============================] - 0s 11ms/step - loss: 0.0036 - val_loss: 0.0012\n",
      "Epoch 18/50\n",
      "10/10 [==============================] - 0s 13ms/step - loss: 0.0034 - val_loss: 0.0010\n",
      "Epoch 19/50\n",
      "10/10 [==============================] - 0s 19ms/step - loss: 0.0034 - val_loss: 0.0011\n",
      "Epoch 20/50\n",
      "10/10 [==============================] - 0s 20ms/step - loss: 0.0029 - val_loss: 0.0011\n",
      "Epoch 21/50\n",
      "10/10 [==============================] - 0s 13ms/step - loss: 0.0029 - val_loss: 0.0010\n",
      "Epoch 22/50\n",
      "10/10 [==============================] - 0s 13ms/step - loss: 0.0029 - val_loss: 0.0011\n",
      "Epoch 23/50\n",
      "10/10 [==============================] - 0s 12ms/step - loss: 0.0030 - val_loss: 0.0013\n",
      "Epoch 24/50\n",
      "10/10 [==============================] - 0s 12ms/step - loss: 0.0029 - val_loss: 0.0011\n",
      "Epoch 25/50\n",
      "10/10 [==============================] - 0s 12ms/step - loss: 0.0024 - val_loss: 0.0012\n",
      "Epoch 26/50\n",
      "10/10 [==============================] - 0s 13ms/step - loss: 0.0024 - val_loss: 0.0012\n",
      "Epoch 27/50\n",
      "10/10 [==============================] - 0s 22ms/step - loss: 0.0024 - val_loss: 0.0011\n",
      "Epoch 28/50\n",
      "10/10 [==============================] - 0s 17ms/step - loss: 0.0022 - val_loss: 0.0013\n",
      "Epoch 29/50\n",
      "10/10 [==============================] - 0s 13ms/step - loss: 0.0028 - val_loss: 0.0013\n",
      "Epoch 30/50\n",
      "10/10 [==============================] - 0s 17ms/step - loss: 0.0022 - val_loss: 0.0012\n",
      "Epoch 31/50\n",
      "10/10 [==============================] - 0s 19ms/step - loss: 0.0025 - val_loss: 0.0015\n"
     ]
    }
   ],
   "source": [
    "callback = EarlyStopping(monitor='val_loss', patience=10)\n",
    "model = build_lstm_model(X_train, output_size=1, neurons=lstm_neurons, dropout=dropout, loss=loss, optimizer=optimizer)\n",
    "history = model.fit(X_train, y_train, epochs=epochs, batch_size=batch_size, verbose=1, shuffle=True, validation_split=0.2, callbacks=[callback])"
   ]
  },
  {
   "cell_type": "code",
   "execution_count": 18,
   "id": "97f47f4f",
   "metadata": {},
   "outputs": [
    {
     "data": {
      "image/png": "[encoded data removed]",
      "text/plain": [
       "<Figure size 504x252 with 1 Axes>"
      ]
     },
     "metadata": {
      "needs_background": "light"
     },
     "output_type": "display_data"
    }
   ],
   "source": [
    "plt.plot(history.history['loss'], label='Training')\n",
    "plt.plot(history.history['val_loss'], label='Testing')\n",
    "plt.legend()\n",
    "plt.grid()\n",
    "plt.show()"
   ]
  },
  {
   "cell_type": "code",
   "execution_count": 19,
   "id": "7758b88f",
   "metadata": {},
   "outputs": [
    {
     "data": {
      "text/plain": [
       "0.039445279643033015"
      ]
     },
     "execution_count": 19,
     "metadata": {},
     "output_type": "execute_result"
    }
   ],
   "source": [
    "targets = test['c'][window_len:]\n",
    "preds = model.predict(X_test).squeeze()\n",
    "mean_absolute_error(preds, y_test)"
   ]
  },
  {
   "cell_type": "code",
   "execution_count": 20,
   "id": "346fde41",
   "metadata": {},
   "outputs": [
    {
     "data": {
      "image/png": "[encoded data removed]",
      "text/plain": [
       "<Figure size 936x504 with 1 Axes>"
      ]
     },
     "metadata": {
      "needs_background": "light"
     },
     "output_type": "display_data"
    }
   ],
   "source": [
    "preds_unsc = unscale(preds,scaler)\n",
    "targets_unsc = unscale(targets.values,scaler)\n",
    "preds = pd.Series(index=targets.index, data=preds_unsc)\n",
    "line_plot(targets_unsc, preds_unsc, 'actual', 'prediction', lw=3)"
   ]
  },
  {
   "cell_type": "code",
   "execution_count": 43,
   "id": "b3c23daf",
   "metadata": {},
   "outputs": [],
   "source": [
    "def predict_tomorrow(file_name, verbose=0):\n",
    "    data = pd.read_csv(all_files)\n",
    "    data = data.set_index('datetime')\n",
    "    \n",
    "    scaler = MinMaxScaler()\n",
    "    data[['l', 'o', 'h', 'c', 'v']]= scaler.fit_transform(data[['l', 'o', 'h', 'c', 'v']])\n",
    "\n",
    "    pca = PCA(n_components=3)\n",
    "    data_pca = data\n",
    "    data_pca = pca.fit_transform(data)\n",
    "    data_pca = pd.DataFrame(data_pca, columns=['pc1', 'pc2', 'pc3'])\n",
    "    \n",
    "    np.random.seed(42)\n",
    "    window_len = 7\n",
    "    test_size = 0.2\n",
    "    lstm_neurons = 100\n",
    "    epochs = 50\n",
    "    batch_size = 32\n",
    "    loss = 'mse'\n",
    "    dropout = 0.2\n",
    "    optimizer = 'adam'\n",
    "    \n",
    "    a, b, X_train, X_test, y_train, y_test = prepare_data(data_pca, data, 'c', window_len=window_len, test_size=test_size)\n",
    "    \n",
    "    callback = EarlyStopping(monitor='val_loss', patience=10)\n",
    "    model = build_lstm_model(X_train, output_size=1, neurons=lstm_neurons, dropout=dropout, loss=loss, optimizer=optimizer)\n",
    "    history = model.fit(X_train, y_train, epochs=epochs, batch_size=batch_size, verbose=verbose, shuffle=True, validation_split=0.2, callbacks=[callback])\n",
    "    \n",
    "    temp = data_pca[-window_len:].values\n",
    "    \n",
    "    test_pred = []\n",
    "\n",
    "    test_pred.append(temp)\n",
    "    test_pred = np.stack(test_pred)\n",
    "    \n",
    "    \n",
    "    print(\"validation loss :\", history.history['val_loss'][-1])\n",
    "    \n",
    "    preds = model.predict(test_pred)\n",
    "    \n",
    "    tommorow_pred = preds[-1]\n",
    "    \n",
    "    tommorow_price = unscale(tommorow_pred, scaler)\n",
    "\n",
    "    return tommorow_price"
   ]
  },
  {
   "cell_type": "code",
   "execution_count": 49,
   "id": "c2e78101",
   "metadata": {},
   "outputs": [
    {
     "name": "stdout",
     "output_type": "stream",
     "text": [
      "(7, 3)\n",
      "validation loss : 0.0027337067294865847\n",
      "WARNING:tensorflow:5 out of the last 9 calls to <function Model.make_predict_function.<locals>.predict_function at 0x7fb2c46ade60> triggered tf.function retracing. Tracing is expensive and the excessive number of tracings could be due to (1) creating @tf.function repeatedly in a loop, (2) passing tensors with different shapes, (3) passing Python objects instead of tensors. For (1), please define your @tf.function outside of the loop. For (2), @tf.function has experimental_relax_shapes=True option that relaxes argument shapes that can avoid unnecessary retracing. For (3), please refer to https://www.tensorflow.org/guide/function#controlling_retracing and https://www.tensorflow.org/api_docs/python/tf/function for  more details.\n",
      "tomorrow price for  DOT  is:  37.205315\n"
     ]
    }
   ],
   "source": [
    "path = r'data/'                     # use your path\n",
    "file = glob.glob(os.path.join(path, \"DOT.csv\"))[0]\n",
    "name = file.split('/', 1 )\n",
    "name = name[1].split('.', 1 )[0]\n",
    "\n",
    "price = predict_tomorrow(file, verbose=0)\n",
    "\n",
    "print(\"tomorrow price for \",name, \" is: \",price[0])"
   ]
  }
 ],
 "metadata": {
  "kernelspec": {
   "display_name": "Python 3",
   "language": "python",
   "name": "python3"
  },
  "language_info": {
   "codemirror_mode": {
    "name": "ipython",
    "version": 3
   },
   "file_extension": ".py",
   "mimetype": "text/x-python",
   "name": "python",
   "nbconvert_exporter": "python",
   "pygments_lexer": "ipython3",
   "version": "3.7.11"
  }
 },
 "nbformat": 4,
 "nbformat_minor": 5
}
