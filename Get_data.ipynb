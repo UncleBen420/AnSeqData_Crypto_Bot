{
 "cells": [
  {
   "cell_type": "code",
   "execution_count": 1,
   "id": "identical-greenhouse",
   "metadata": {},
   "outputs": [],
   "source": [
    "from pycoingecko import CoinGeckoAPI\n",
    "cg = CoinGeckoAPI()\n",
    "import pandas as pd\n",
    "import numpy as np\n",
    "import pandas as pd\n",
    "import os\n",
    "import time\n",
    "import datetime as dt"
   ]
  },
  {
   "cell_type": "code",
   "execution_count": 2,
   "id": "legal-blues",
   "metadata": {},
   "outputs": [],
   "source": [
    "from binance import Client, ThreadedWebsocketManager, ThreadedDepthCacheManager\n",
    "api_key = ''\n",
    "api_secret = ''\n",
    "client = Client(api_key, api_secret)"
   ]
  },
  {
   "cell_type": "code",
   "execution_count": 6,
   "id": "increasing-lebanon",
   "metadata": {},
   "outputs": [
    {
     "name": "stdout",
     "output_type": "stream",
     "text": [
      "Today's date: 2020-12-12\n"
     ]
    }
   ],
   "source": [
    "from datetime import date\n",
    "from dateutil.relativedelta import relativedelta\n",
    "\n",
    "today = date.today()\n",
    "\n",
    "last_year = currentTimeDate = date.today() - relativedelta(years=1)\n",
    "print(\"Today's date:\", last_year)"
   ]
  },
  {
   "cell_type": "code",
   "execution_count": 7,
   "id": "presidential-drive",
   "metadata": {},
   "outputs": [
    {
     "data": {
      "text/html": [
       "<div>\n",
       "<style scoped>\n",
       "    .dataframe tbody tr th:only-of-type {\n",
       "        vertical-align: middle;\n",
       "    }\n",
       "\n",
       "    .dataframe tbody tr th {\n",
       "        vertical-align: top;\n",
       "    }\n",
       "\n",
       "    .dataframe thead th {\n",
       "        text-align: right;\n",
       "    }\n",
       "</style>\n",
       "<table border=\"1\" class=\"dataframe\">\n",
       "  <thead>\n",
       "    <tr style=\"text-align: right;\">\n",
       "      <th></th>\n",
       "      <th>base</th>\n",
       "      <th>target</th>\n",
       "      <th>volume</th>\n",
       "      <th>coin_id</th>\n",
       "    </tr>\n",
       "  </thead>\n",
       "  <tbody>\n",
       "    <tr>\n",
       "      <th>0</th>\n",
       "      <td>BUSD</td>\n",
       "      <td>USDT</td>\n",
       "      <td>4.505194e+08</td>\n",
       "      <td>binance-usd</td>\n",
       "    </tr>\n",
       "    <tr>\n",
       "      <th>1</th>\n",
       "      <td>BTC</td>\n",
       "      <td>USDT</td>\n",
       "      <td>2.362432e+04</td>\n",
       "      <td>bitcoin</td>\n",
       "    </tr>\n",
       "    <tr>\n",
       "      <th>2</th>\n",
       "      <td>ETH</td>\n",
       "      <td>USDT</td>\n",
       "      <td>2.412704e+05</td>\n",
       "      <td>ethereum</td>\n",
       "    </tr>\n",
       "    <tr>\n",
       "      <th>3</th>\n",
       "      <td>USDC</td>\n",
       "      <td>USDT</td>\n",
       "      <td>7.788310e+07</td>\n",
       "      <td>usd-coin</td>\n",
       "    </tr>\n",
       "    <tr>\n",
       "      <th>4</th>\n",
       "      <td>WBTC</td>\n",
       "      <td>BTC</td>\n",
       "      <td>1.349122e+02</td>\n",
       "      <td>wrapped-bitcoin</td>\n",
       "    </tr>\n",
       "  </tbody>\n",
       "</table>\n",
       "</div>"
      ],
      "text/plain": [
       "   base target        volume          coin_id\n",
       "0  BUSD   USDT  4.505194e+08      binance-usd\n",
       "1   BTC   USDT  2.362432e+04          bitcoin\n",
       "2   ETH   USDT  2.412704e+05         ethereum\n",
       "3  USDC   USDT  7.788310e+07         usd-coin\n",
       "4  WBTC    BTC  1.349122e+02  wrapped-bitcoin"
      ]
     },
     "execution_count": 7,
     "metadata": {},
     "output_type": "execute_result"
    }
   ],
   "source": [
    "data_binance=cg.get_exchanges_by_id('binance')\n",
    "df_binance =pd.DataFrame(data_binance['tickers'], columns=['base','target','volume','coin_id'])\n",
    "df_binance.head()"
   ]
  },
  {
   "cell_type": "code",
   "execution_count": 8,
   "id": "normal-connectivity",
   "metadata": {},
   "outputs": [],
   "source": [
    "def get_data(from_d, to_d, crypto, vstoken):\n",
    "    klines = client.get_historical_klines(crypto+vstoken, Client.KLINE_INTERVAL_1HOUR, from_d, to_d)\n",
    "    df = pd.DataFrame(klines)\n",
    "\n",
    "    df.columns = ['open_time', 'o', 'h', 'l', 'c', 'v', 'close_time', 'qav', 'num_trades', 'taker_base_vol', 'taker_quote_vol', 'ignore']\n",
    "    df.index = [dt.datetime.fromtimestamp(x / 1000.0) for x in df.open_time]\n",
    "    df.index.name = 'datetime'\n",
    "    df.drop(['open_time', 'close_time', 'ignore'], axis=1, inplace=True)\n",
    "    df.drop(['qav', 'num_trades', 'taker_base_vol','taker_quote_vol'], axis=1, inplace=True)\n",
    "    return df"
   ]
  },
  {
   "cell_type": "code",
   "execution_count": 9,
   "id": "dominant-small",
   "metadata": {},
   "outputs": [],
   "source": [
    "def update_dataset(proj_name, vstoken):\n",
    "    \n",
    "    today = date.today()\n",
    "    last_year = currentTimeDate = date.today() - relativedelta(years=1)\n",
    "    today = str(today)\n",
    "    last_year = str(last_year)\n",
    "\n",
    "\n",
    "    filename = \"data/\"+proj_name+'.csv'\n",
    "\n",
    "    if os.path.exists(filename):\n",
    "        crypto_data = pd.read_csv(filename)  \n",
    "        since_last = crypto_data.iloc[-1]['datetime']\n",
    "\n",
    "        if since_last >= today:\n",
    "            print('is up to date')\n",
    "        else:\n",
    "            print(\"updating\")\n",
    "            update = get_data(since_last, today, proj_name, vstoken)\n",
    "            # we need to drop the first raw because it will be at double otherwise\n",
    "            update = update.iloc[1: , :]\n",
    "            crypto_data.append(update)\n",
    "            update.to_csv(filename, mode='a', header=False)\n",
    "\n",
    "    else:\n",
    "        crypto_data = get_data(last_year, today, proj_name, vstoken)\n",
    "        crypto_data.to_csv(filename)\n",
    "\n"
   ]
  },
  {
   "cell_type": "code",
   "execution_count": 10,
   "id": "bored-pattern",
   "metadata": {
    "scrolled": false
   },
   "outputs": [
    {
     "name": "stdout",
     "output_type": "stream",
     "text": [
      "BUSD\n",
      "BTC\n",
      "ETH\n",
      "USDC\n",
      "GALA\n",
      "LUNA\n",
      "SAND\n",
      "SHIB\n",
      "SOL\n",
      "XRP\n",
      "MATIC\n",
      "ADA\n",
      "AVAX\n",
      "MANA\n",
      "TUSD\n",
      "DOT\n",
      "LTC\n",
      "DOGE\n",
      "EOS\n",
      "AXS\n",
      "TRX\n",
      "NEAR\n",
      "LINK\n",
      "FIL\n",
      "FTM\n",
      "BCH\n",
      "USDP\n",
      "ZEC\n",
      "OMG\n",
      "ATOM\n",
      "THETA\n",
      "ALGO\n",
      "HNT\n",
      "EGLD\n",
      "FTT\n",
      "ETC\n",
      "LRC\n",
      "ICP\n",
      "ALICE\n",
      "VET\n",
      "BTT\n",
      "IOTX\n",
      "BAT\n",
      "CRV\n",
      "CHZ\n",
      "GRT\n",
      "XTZ\n",
      "MBOX\n",
      "CHR\n",
      "PAXG\n",
      "XLM\n"
     ]
    }
   ],
   "source": [
    "for coin in df_binance.values:\n",
    "    if(coin[1] == 'USDT'):\n",
    "        update_dataset(coin[0],coin[1])\n",
    "        print(coin[0])"
   ]
  }
 ],
 "metadata": {
  "kernelspec": {
   "display_name": "Python 3",
   "language": "python",
   "name": "python3"
  },
  "language_info": {
   "codemirror_mode": {
    "name": "ipython",
    "version": 3
   },
   "file_extension": ".py",
   "mimetype": "text/x-python",
   "name": "python",
   "nbconvert_exporter": "python",
   "pygments_lexer": "ipython3",
   "version": "3.8.10"
  }
 },
 "nbformat": 4,
 "nbformat_minor": 5
}
